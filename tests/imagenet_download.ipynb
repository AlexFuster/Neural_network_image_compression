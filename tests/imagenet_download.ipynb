{
 "cells": [
  {
   "cell_type": "code",
   "execution_count": null,
   "metadata": {},
   "outputs": [],
   "source": [
    "import pandas as pd\n",
    "import numpy as np\n",
    "import urllib\n",
    "import matplotlib.pyplot as plt"
   ]
  },
  {
   "cell_type": "code",
   "execution_count": null,
   "metadata": {},
   "outputs": [],
   "source": [
    "all_urls=!cat 'fall11_urls.csv'"
   ]
  },
  {
   "cell_type": "code",
   "execution_count": null,
   "metadata": {},
   "outputs": [],
   "source": [
    "from random import shuffle"
   ]
  },
  {
   "cell_type": "code",
   "execution_count": null,
   "metadata": {},
   "outputs": [],
   "source": [
    "shuffle(all_urls)\n",
    "all_urls[:50]"
   ]
  },
  {
   "cell_type": "code",
   "execution_count": null,
   "metadata": {},
   "outputs": [],
   "source": [
    "from PIL import Image"
   ]
  },
  {
   "cell_type": "code",
   "execution_count": null,
   "metadata": {},
   "outputs": [],
   "source": [
    "from multiprocessing import Pool,Value"
   ]
  },
  {
   "cell_type": "code",
   "execution_count": null,
   "metadata": {},
   "outputs": [],
   "source": [
    "count = Value('i', 0)"
   ]
  },
  {
   "cell_type": "code",
   "execution_count": null,
   "metadata": {},
   "outputs": [],
   "source": [
    "def save_patch(url):\n",
    "    global count\n",
    "    try:\n",
    "        imagename=url.split('/')[-1].split('.jpg')[0]\n",
    "        with Image.open(urllib.request.urlopen(url,timeout=1)) as img:\n",
    "            aux_im=np.array(img)\n",
    "            min_shape=int(min(aux_im.shape[0],aux_im.shape[1])/2)\n",
    "            center=(int(aux_im.shape[0]/2),int(aux_im.shape[1]/2))\n",
    "            aux_patch=aux_im[center[0]-min_shape:center[0]+min_shape,center[1]-min_shape:center[1]+min_shape]\n",
    "        if aux_patch.std()>20:\n",
    "            with count.get_lock():\n",
    "                Image.fromarray(aux_patch).resize((256,256)).save('imagenet/{:05d}.jpg'.format(count.value))\n",
    "                count.value += 1\n",
    "            return 1\n",
    "        return 0\n",
    "    except Exception as e: \n",
    "        #print(e)\n",
    "        return 0"
   ]
  },
  {
   "cell_type": "code",
   "execution_count": null,
   "metadata": {},
   "outputs": [],
   "source": [
    "pool = Pool(12)"
   ]
  },
  {
   "cell_type": "code",
   "execution_count": null,
   "metadata": {},
   "outputs": [],
   "source": [
    "i=0\n",
    "while count.value<100000:\n",
    "    im_url=all_urls[i]\n",
    "    count.value+=np.array(pool.map(save_patch,all_urls[i:i+1200])).sum()\n",
    "    i+=1200\n",
    "    print(i,count.value)"
   ]
  },
  {
   "cell_type": "code",
   "execution_count": null,
   "metadata": {},
   "outputs": [],
   "source": []
  }
 ],
 "metadata": {
  "kernelspec": {
   "display_name": "Python 3",
   "language": "python",
   "name": "python3"
  },
  "language_info": {
   "codemirror_mode": {
    "name": "ipython",
    "version": 3
   },
   "file_extension": ".py",
   "mimetype": "text/x-python",
   "name": "python",
   "nbconvert_exporter": "python",
   "pygments_lexer": "ipython3",
   "version": "3.7.3"
  }
 },
 "nbformat": 4,
 "nbformat_minor": 2
}
